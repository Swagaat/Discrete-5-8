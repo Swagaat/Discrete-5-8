{
  "nbformat": 4,
  "nbformat_minor": 0,
  "metadata": {
    "colab": {
      "provenance": [],
      "authorship_tag": "ABX9TyNKb+/7k5lFu8wAHeoLFic9",
      "include_colab_link": true
    },
    "kernelspec": {
      "name": "python3",
      "display_name": "Python 3"
    },
    "language_info": {
      "name": "python"
    }
  },
  "cells": [
    {
      "cell_type": "markdown",
      "metadata": {
        "id": "view-in-github",
        "colab_type": "text"
      },
      "source": [
        "<a href=\"https://colab.research.google.com/github/Swagaat/Discrete-5-8/blob/main/Programming_5.ipynb\" target=\"_parent\"><img src=\"https://colab.research.google.com/assets/colab-badge.svg\" alt=\"Open In Colab\"/></a>"
      ]
    },
    {
      "cell_type": "code",
      "execution_count": null,
      "metadata": {
        "id": "pqUugB275Guj"
      },
      "outputs": [],
      "source": [
        "class VendingMachine(object):\n",
        "    def __init__(self, product, price):\n",
        "        self.product = product\n",
        "        self.price = price\n",
        "        self.stock = 0\n",
        "        self.balance = 0\n",
        "\n",
        "    def restock(self, amount):\n",
        "        self.stock += amount\n",
        "        return f'Current {self.product} stock: {self.stock}'\n",
        "\n",
        "    def deposit(self, amount):\n",
        "        self.balance += amount\n",
        "        return f'Current balance: ${self.balance}'\n",
        "\n",
        "    def vend(self):\n",
        "        if self.stock == 0:\n",
        "            return 'Machine is out of stock.'\n",
        "        elif self.balance < self.price:\n",
        "            return f'You must deposit ${self.price - self.balance} more.'\n",
        "        else:\n",
        "            self.stock -= 1\n",
        "            self.balance -= self.price\n",
        "            change = self.balance\n",
        "            self.balance = 0\n",
        "            return f'Here is your {self.product} and ${change} change.'\n",
        "v = VendingMachine('crab', 10)\n",
        "print(v.vend())  # 'Machine is out of stock.'\n",
        "print(v.restock(2))  # 'Current crab stock: 2'\n",
        "print(v.vend())  # 'You must deposit $10 more.'\n",
        "print(v.deposit(7))  # 'Current balance: $7'\n",
        "print(v.vend())  # 'You must deposit $3 more.'\n",
        "print(v.deposit(5))  # 'Current balance: $12'\n",
        "print(v.vend())  # 'Here is your crab and $2 change.'\n",
        "print(v.deposit(10))  # 'Current balance: $10'\n",
        "print(v.vend())  "
      ]
    }
  ]
}